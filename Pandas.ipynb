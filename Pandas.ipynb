{
 "cells": [
  {
   "cell_type": "code",
   "execution_count": null,
   "id": "266606cd",
   "metadata": {},
   "outputs": [],
   "source": [
    "import pandas as pd\n",
    "\n",
    "df = pd.DataFrame({\n",
    "        \"Name\" : [\n",
    "            \"Braund, Mr. Owen Harris\",\n",
    "            \"Allen, Mr. William Henry\",\n",
    "            \"Bonnell, Miss. Elizabeth\",\n",
    "        ],\n",
    "        \"Age\" : [22, 35, 58],\n",
    "        \"Sex\" : [\"male\", \"male\", \"female\"]\n",
    "    }\n",
    ")"
   ]
  },
  {
   "cell_type": "code",
   "execution_count": null,
   "id": "977d6dc8",
   "metadata": {},
   "outputs": [],
   "source": [
    "display(df)"
   ]
  },
  {
   "cell_type": "markdown",
   "id": "9a6a1f3d",
   "metadata": {},
   "source": [
    "### Series(시리즈)"
   ]
  },
  {
   "cell_type": "code",
   "execution_count": null,
   "id": "10939064",
   "metadata": {},
   "outputs": [],
   "source": [
    "import pandas as pd\n",
    "\n",
    "se = pd.Series([1,2,3,6])\n",
    "display(se)"
   ]
  },
  {
   "cell_type": "markdown",
   "id": "4c6e4fec",
   "metadata": {},
   "source": [
    "##### 자동으로 색인을 만들지 않고 index 키워드를 사용해 원하는 색인의 이름을 입력"
   ]
  },
  {
   "cell_type": "markdown",
   "id": "6fd8177f",
   "metadata": {},
   "source": [
    "##### class pandas.Series(data=None, index=None, dtype=None, name=None, copy=False, fastpath=False)\n",
    "[source]¶"
   ]
  },
  {
   "cell_type": "code",
   "execution_count": null,
   "id": "bde608a3",
   "metadata": {},
   "outputs": [],
   "source": [
    "import pandas as pd\n",
    "\n",
    "se = pd.Series([1,2,3,6] , ['서울', \"대전\", \"대구\" ,\"부산\"])\n",
    "se['서울']\n",
    "print(se[['서울' , \"부산\"]])\n",
    "print(type(se[['서울' , \"부산\"]]))"
   ]
  },
  {
   "cell_type": "markdown",
   "id": "1f151487",
   "metadata": {},
   "source": [
    "#### index–  만들어진 시리즈에서 인덱스만을 출력"
   ]
  },
  {
   "cell_type": "code",
   "execution_count": null,
   "id": "2087aba8",
   "metadata": {},
   "outputs": [],
   "source": [
    "se = pd.Series([1,2,3,6] , ['서울', \"대전\", \"대구\" ,\"부산\"])\n",
    "se.index"
   ]
  },
  {
   "cell_type": "markdown",
   "id": "035eb9ce",
   "metadata": {},
   "source": [
    "#### values –   만들어진 시리즈 데이터에서 값들만을 출력"
   ]
  },
  {
   "cell_type": "code",
   "execution_count": null,
   "id": "841bcf8e",
   "metadata": {},
   "outputs": [],
   "source": [
    "se = pd.Series([4,10,3,6] , ['서울', \"대전\", \"대구\" ,\"부산\"])\n",
    "se.values"
   ]
  },
  {
   "cell_type": "markdown",
   "id": "0da81916",
   "metadata": {},
   "source": [
    "##### sorted() 함수 – 인덱스나 값들로 정렬"
   ]
  },
  {
   "cell_type": "code",
   "execution_count": null,
   "id": "90d01e50",
   "metadata": {},
   "outputs": [],
   "source": [
    "sort = sorted(se.index)\n",
    "display(sort)"
   ]
  },
  {
   "cell_type": "code",
   "execution_count": null,
   "id": "d05efca6",
   "metadata": {},
   "outputs": [],
   "source": [
    "sort = sorted(se.values)\n",
    "display(sort)"
   ]
  },
  {
   "cell_type": "code",
   "execution_count": null,
   "id": "c6f4a00d",
   "metadata": {},
   "outputs": [],
   "source": [
    "sort = sorted(se.index)\n",
    "reindex_se = se.reindex(sort)\n",
    "display(reindex_se)"
   ]
  },
  {
   "cell_type": "markdown",
   "id": "aa271814",
   "metadata": {},
   "source": [
    "###### 시리즈의  합\n",
    "###### –   인덱스별로 저장된 값들의 합을 구함\n",
    "###### –   x와 y에 공통된 인덱스가 존재해야 더할 수 있으므로 광주와 대전은 NaN으로 표시"
   ]
  },
  {
   "cell_type": "code",
   "execution_count": null,
   "id": "30b3eaa2",
   "metadata": {},
   "outputs": [],
   "source": [
    "se_x = pd.Series([4,10,3,6] , ['서울', \"대전\", \"대구\" ,\"부산\"])\n",
    "se_y = pd.Series([100,123,3,6] , ['서울', \"대전\", \"대구\" ,\"부산\"])\n",
    "se_x+se_y"
   ]
  },
  {
   "cell_type": "code",
   "execution_count": null,
   "id": "662ebbe6",
   "metadata": {},
   "outputs": [],
   "source": [
    "se_x = pd.Series([4,10,3,6] , ['서울', \"대전\", \"대구\" ,\"부산\"])\n",
    "se_y = pd.Series([100,123,3,6] , ['서울', \"대전\", \"전주\" ,\"광주\"])\n",
    "se_x+se_y"
   ]
  },
  {
   "cell_type": "markdown",
   "id": "998fe77a",
   "metadata": {},
   "source": [
    "###### unique() – 시리즈로부터 유일한 값들만을 반환"
   ]
  },
  {
   "cell_type": "code",
   "execution_count": null,
   "id": "7a100344",
   "metadata": {},
   "outputs": [],
   "source": [
    "medal = [1,2,3,1,2,5,6,2]\n",
    "se = pd.Series(medal)\n",
    "se.unique()"
   ]
  },
  {
   "cell_type": "code",
   "execution_count": null,
   "id": "4f2c040f",
   "metadata": {},
   "outputs": [],
   "source": [
    "data = {'alice': [1, 2, 3], 'bob': 20, 'tony': 15, 'suzy': 30,\"dodo\": [1,3,5,7], \"mario\": \"pitch\"}\n",
    "x = pd.Series(data)\n",
    "x"
   ]
  },
  {
   "cell_type": "code",
   "execution_count": null,
   "id": "5276c498",
   "metadata": {},
   "outputs": [],
   "source": [
    "data = {'alice': [1, 2, 3], 'bob': 20, 'tony': 15, 'suzy': 30,\"dodo\": [1,3,5,7], \"mario\": \"pitch\"}\n",
    "x = pd.Series(data)\n",
    "y = x[2:6]\n",
    "display(y.values)\n",
    "display(y.index)"
   ]
  },
  {
   "cell_type": "markdown",
   "id": "2099bc10",
   "metadata": {},
   "source": [
    "#### pandas.Series.to_frame"
   ]
  },
  {
   "cell_type": "code",
   "execution_count": null,
   "id": "9d284034",
   "metadata": {},
   "outputs": [],
   "source": [
    "s = pd.Series([\"a\", \"b\", \"c\"],name=\"vals\")\n",
    "s"
   ]
  },
  {
   "cell_type": "code",
   "execution_count": null,
   "id": "cbadc8da",
   "metadata": {},
   "outputs": [],
   "source": [
    "df = s.to_frame()\n",
    "display(df)"
   ]
  },
  {
   "cell_type": "markdown",
   "id": "30b2d590",
   "metadata": {},
   "source": [
    "## DataFrame"
   ]
  },
  {
   "cell_type": "code",
   "execution_count": null,
   "id": "c81b34dd",
   "metadata": {},
   "outputs": [],
   "source": [
    "data  = {\n",
    "    'age': [23, 43,12,45],\n",
    "    'name':['민준','형우', '서연','태경'],\n",
    "    'height': [175,180.4 ,165.2, 200.3]\n",
    "}\n",
    "\n",
    "df = pd.DataFrame(data,  columns= ['age', 'height', 'name'])"
   ]
  },
  {
   "cell_type": "code",
   "execution_count": null,
   "id": "fb0f0925",
   "metadata": {},
   "outputs": [],
   "source": [
    "display(df.name)\n",
    "display(df['age'])"
   ]
  },
  {
   "cell_type": "code",
   "execution_count": null,
   "id": "e388cde7",
   "metadata": {},
   "outputs": [],
   "source": [
    "display(df['age'][0:2])"
   ]
  },
  {
   "cell_type": "markdown",
   "id": "8bbd59e2",
   "metadata": {},
   "source": [
    "##### iloc() 메소드를 사용하여 특정한 행이나 위치의 내용들을 지정하여 출력"
   ]
  },
  {
   "cell_type": "code",
   "execution_count": null,
   "id": "32812b05",
   "metadata": {},
   "outputs": [],
   "source": [
    "ary = [[1,2], [3,4],[4,5]]\n",
    "df = pd.DataFrame(ary , columns =['First' , 'Second'])\n",
    "df"
   ]
  },
  {
   "cell_type": "code",
   "execution_count": null,
   "id": "a9a0373e",
   "metadata": {},
   "outputs": [],
   "source": [
    "display(df[0:1])\n",
    "display(df.iloc[0])"
   ]
  },
  {
   "cell_type": "markdown",
   "id": "497f1bce",
   "metadata": {},
   "source": [
    "###### 모든 행의 마지막 데이터만을 출력"
   ]
  },
  {
   "cell_type": "code",
   "execution_count": null,
   "id": "dd0bfe03",
   "metadata": {},
   "outputs": [],
   "source": [
    "display(df.iloc[: , -1])"
   ]
  },
  {
   "cell_type": "markdown",
   "id": "a29c7c97",
   "metadata": {},
   "source": [
    "###### 특정행의 마지막 데이터만을 출력"
   ]
  },
  {
   "cell_type": "code",
   "execution_count": null,
   "id": "4fc92046",
   "metadata": {},
   "outputs": [],
   "source": [
    "df.iloc[0:2, -1]"
   ]
  },
  {
   "cell_type": "code",
   "execution_count": null,
   "id": "c97499f3",
   "metadata": {},
   "outputs": [],
   "source": [
    "df = pd.read_csv(\"train.csv\")\n",
    "df"
   ]
  },
  {
   "cell_type": "markdown",
   "id": "63d9699c",
   "metadata": {},
   "source": [
    "##### head()"
   ]
  },
  {
   "cell_type": "code",
   "execution_count": null,
   "id": "d0395330",
   "metadata": {},
   "outputs": [],
   "source": [
    "df.head()"
   ]
  },
  {
   "cell_type": "code",
   "execution_count": null,
   "id": "66f02ca8",
   "metadata": {},
   "outputs": [],
   "source": [
    "df.head(10)"
   ]
  },
  {
   "cell_type": "code",
   "execution_count": null,
   "id": "c567fd5f",
   "metadata": {},
   "outputs": [],
   "source": [
    "df.head(10)"
   ]
  },
  {
   "cell_type": "code",
   "execution_count": null,
   "id": "1d3cc10c",
   "metadata": {},
   "outputs": [],
   "source": [
    "df.head(-10)"
   ]
  },
  {
   "cell_type": "code",
   "execution_count": null,
   "id": "6fe12baf",
   "metadata": {},
   "outputs": [],
   "source": [
    "df.tail(-10)"
   ]
  },
  {
   "cell_type": "code",
   "execution_count": null,
   "id": "aeeac4e6",
   "metadata": {},
   "outputs": [],
   "source": [
    "ary = [[1,2], [3,4],[4,5], [6,7],[8,9]]\n",
    "data = pd.DataFrame(ary, columns=['First', 'Second'])\n",
    "bools = [False, True, False , True , True]\n",
    "display(data)\n",
    "display(data['Second'][bools])"
   ]
  },
  {
   "cell_type": "code",
   "execution_count": null,
   "id": "61f017af",
   "metadata": {},
   "outputs": [],
   "source": [
    "#axis=0을 줘서 행 방향 = 열의 합을 구할 수 있다. 마찬가지로 axis=1을 인자로 주면, 열 방향 = 행의 합을 구할 수 있다.\n",
    "ary = [[1,2], [3,4],[4,5], [6,7],[8,9]]\n",
    "data = pd.DataFrame(ary, columns=['First', 'Second'])\n",
    "display(data.mean())\n",
    "display(data.mean(axis=0))"
   ]
  },
  {
   "cell_type": "code",
   "execution_count": null,
   "id": "328b328c",
   "metadata": {},
   "outputs": [],
   "source": [
    "2+3.0"
   ]
  },
  {
   "cell_type": "code",
   "execution_count": null,
   "id": "8f5d6041",
   "metadata": {},
   "outputs": [],
   "source": [
    "import pandas as pd\n",
    "\n",
    "df = pd.read_csv('경상남도_대기오염경보자동발령시스템_미세먼지 및 오존 측정데이터 자료_O3 시간평균_20200928.csv' , engine='python', encoding='euc-kr')\n",
    "df"
   ]
  },
  {
   "cell_type": "code",
   "execution_count": null,
   "id": "c94f3f75",
   "metadata": {},
   "outputs": [],
   "source": [
    "df_함양 = df['함양읍'].to_frame()"
   ]
  },
  {
   "cell_type": "code",
   "execution_count": null,
   "id": "fdc9a96e",
   "metadata": {},
   "outputs": [],
   "source": [
    "df_함양 = df['함양읍'].to_frame()\n",
    "df_함양.loc[df_함양.함양읍==\"교정중\" , \"함양읍\"] = 0.6"
   ]
  },
  {
   "cell_type": "code",
   "execution_count": null,
   "id": "781a9923",
   "metadata": {},
   "outputs": [],
   "source": [
    "df_함양.loc[df_함양.함양읍==\"전원단절\" , \"함양읍\"] = 0.6"
   ]
  },
  {
   "cell_type": "code",
   "execution_count": null,
   "id": "7b98e00c",
   "metadata": {},
   "outputs": [],
   "source": [
    "df_함양.mean(axis=1)"
   ]
  },
  {
   "cell_type": "markdown",
   "id": "0c6d7d87",
   "metadata": {},
   "source": [
    "#### 존재하지  않는  값"
   ]
  },
  {
   "cell_type": "markdown",
   "id": "22d42be0",
   "metadata": {},
   "source": [
    "###### 처리하는 방법\n",
    "###### ① 찾아서 복구\n",
    "###### ② 해당 라인(행)을 삭제\n",
    "###### ③ 해당 칼럼(열)이 중요하지 않다면 삭제\n",
    "###### ④ 해당 값을 다른 값들의 평균을 구해 입력(빈도수가 가장 많은 것을 선택)"
   ]
  },
  {
   "cell_type": "markdown",
   "id": "df2e5029",
   "metadata": {},
   "source": [
    "DataFrame.dropna(axis=0, how='any', thresh=None, subset=None, inplace=False)[source]"
   ]
  },
  {
   "cell_type": "code",
   "execution_count": null,
   "id": "a0e54bfc",
   "metadata": {},
   "outputs": [],
   "source": [
    "import pandas as pd \n",
    "from numpy import NaN\n",
    "\n",
    "robots = [[23,23680],[35,NaN],[46,23680],[27,NaN]]\n",
    "df = pd.DataFrame(robots, columns=['max_speed', 'price'])\n",
    "display(df)"
   ]
  },
  {
   "cell_type": "code",
   "execution_count": null,
   "id": "608a693a",
   "metadata": {},
   "outputs": [],
   "source": [
    "df.dropna(subset=['price'] , axis=0)"
   ]
  },
  {
   "cell_type": "code",
   "execution_count": null,
   "id": "16dddd44",
   "metadata": {},
   "outputs": [],
   "source": [
    "df = pd.DataFrame({\"name\": ['Alfred', 'Batman', 'Catwoman'],\n",
    "                   \"toy\": [NaN, 'Batmobile', 'Bullwhip'],\n",
    "                   \"born\": [pd.NaT, pd.Timestamp(\"1940-04-25\"),\n",
    "                            pd.NaT]})\n",
    "df"
   ]
  },
  {
   "cell_type": "code",
   "execution_count": null,
   "id": "968a870e",
   "metadata": {},
   "outputs": [],
   "source": [
    "df.dropna()"
   ]
  },
  {
   "cell_type": "code",
   "execution_count": null,
   "id": "82db0a69",
   "metadata": {},
   "outputs": [],
   "source": [
    "df.dropna(axis='columns')"
   ]
  },
  {
   "cell_type": "code",
   "execution_count": null,
   "id": "bf2bef99",
   "metadata": {},
   "outputs": [],
   "source": [
    "# value 값이 선언한 thresh에 미치지 못하는 개수라면 그 axis에 해당하는 행이나 열은 삭제한다\n",
    "df.dropna(thresh=2)"
   ]
  },
  {
   "cell_type": "code",
   "execution_count": null,
   "id": "736de21d",
   "metadata": {},
   "outputs": [],
   "source": [
    "df.dropna(subset=['name', 'toy'])"
   ]
  },
  {
   "cell_type": "markdown",
   "id": "545b8fb3",
   "metadata": {},
   "source": [
    "#### 다른  값들의  평균을  구해 NaN를  대체(replace())"
   ]
  },
  {
   "cell_type": "code",
   "execution_count": null,
   "id": "9010b53d",
   "metadata": {},
   "outputs": [],
   "source": [
    "robots = [[23,23680],[35,NaN],[46,33680],[27,NaN]]\n",
    "df = pd.DataFrame(robots, columns=['max_speed', 'price'])\n",
    "mean = df.price.mean()\n",
    "display(df)\n",
    "df= df.replace(NaN , mean)\n",
    "display(df)"
   ]
  },
  {
   "cell_type": "markdown",
   "id": "6bcfb6a2",
   "metadata": {},
   "source": [
    "#### Binning\n",
    "##### –   다수의 bin으로 그룹화하는 것\n",
    "##### –   일반적으로 숫자의 크기별로 종류를 구분 짓는 것 \n",
    "##### –   특정 값들의 집합을 해당 bin에 할당"
   ]
  },
  {
   "cell_type": "code",
   "execution_count": null,
   "id": "d1b1a882",
   "metadata": {},
   "outputs": [],
   "source": [
    "import matplotlib.pyplot as plt\n",
    "import numpy as np\n",
    "x = np.random.randn(1000)\n",
    "plt.hist(x, density=True, bins=np.linspace(-5, 5, 21))"
   ]
  },
  {
   "cell_type": "markdown",
   "id": "af931dac",
   "metadata": {},
   "source": [
    "#### 데이터 포메팅중 예 get_dummies()"
   ]
  },
  {
   "cell_type": "code",
   "execution_count": 20,
   "id": "1cb15452",
   "metadata": {},
   "outputs": [
    {
     "data": {
      "text/html": [
       "<div>\n",
       "<style scoped>\n",
       "    .dataframe tbody tr th:only-of-type {\n",
       "        vertical-align: middle;\n",
       "    }\n",
       "\n",
       "    .dataframe tbody tr th {\n",
       "        vertical-align: top;\n",
       "    }\n",
       "\n",
       "    .dataframe thead th {\n",
       "        text-align: right;\n",
       "    }\n",
       "</style>\n",
       "<table border=\"1\" class=\"dataframe\">\n",
       "  <thead>\n",
       "    <tr style=\"text-align: right;\">\n",
       "      <th></th>\n",
       "      <th>수온</th>\n",
       "      <th>삼온</th>\n",
       "      <th>hand</th>\n",
       "    </tr>\n",
       "  </thead>\n",
       "  <tbody>\n",
       "    <tr>\n",
       "      <th>0</th>\n",
       "      <td>1</td>\n",
       "      <td>2.0</td>\n",
       "      <td>손</td>\n",
       "    </tr>\n",
       "    <tr>\n",
       "      <th>1</th>\n",
       "      <td>2</td>\n",
       "      <td>2.3</td>\n",
       "      <td>날개</td>\n",
       "    </tr>\n",
       "    <tr>\n",
       "      <th>2</th>\n",
       "      <td>3</td>\n",
       "      <td>3.4</td>\n",
       "      <td>손</td>\n",
       "    </tr>\n",
       "  </tbody>\n",
       "</table>\n",
       "</div>"
      ],
      "text/plain": [
       "   수온   삼온 hand\n",
       "0   1  2.0    손\n",
       "1   2  2.3   날개\n",
       "2   3  3.4    손"
      ]
     },
     "metadata": {},
     "output_type": "display_data"
    },
    {
     "data": {
      "text/html": [
       "<div>\n",
       "<style scoped>\n",
       "    .dataframe tbody tr th:only-of-type {\n",
       "        vertical-align: middle;\n",
       "    }\n",
       "\n",
       "    .dataframe tbody tr th {\n",
       "        vertical-align: top;\n",
       "    }\n",
       "\n",
       "    .dataframe thead th {\n",
       "        text-align: right;\n",
       "    }\n",
       "</style>\n",
       "<table border=\"1\" class=\"dataframe\">\n",
       "  <thead>\n",
       "    <tr style=\"text-align: right;\">\n",
       "      <th></th>\n",
       "      <th>날개</th>\n",
       "      <th>손</th>\n",
       "    </tr>\n",
       "  </thead>\n",
       "  <tbody>\n",
       "    <tr>\n",
       "      <th>0</th>\n",
       "      <td>0</td>\n",
       "      <td>1</td>\n",
       "    </tr>\n",
       "    <tr>\n",
       "      <th>1</th>\n",
       "      <td>1</td>\n",
       "      <td>0</td>\n",
       "    </tr>\n",
       "    <tr>\n",
       "      <th>2</th>\n",
       "      <td>0</td>\n",
       "      <td>1</td>\n",
       "    </tr>\n",
       "  </tbody>\n",
       "</table>\n",
       "</div>"
      ],
      "text/plain": [
       "   날개  손\n",
       "0   0  1\n",
       "1   1  0\n",
       "2   0  1"
      ]
     },
     "metadata": {},
     "output_type": "display_data"
    }
   ],
   "source": [
    "import pandas as pd\n",
    "import numpy as np\n",
    "\n",
    "data = [[1,2,'손'],[2,2.3,'날개'],[3,3.4,'손']]\n",
    "df = pd.DataFrame(data, columns=['수온', '삼온', 'hand'])\n",
    "display(df)\n",
    "df_1  = pd.get_dummies(df.hand)\n",
    "display(df_1)"
   ]
  },
  {
   "cell_type": "code",
   "execution_count": 21,
   "id": "47e1f494",
   "metadata": {},
   "outputs": [
    {
     "data": {
      "text/html": [
       "<div>\n",
       "<style scoped>\n",
       "    .dataframe tbody tr th:only-of-type {\n",
       "        vertical-align: middle;\n",
       "    }\n",
       "\n",
       "    .dataframe tbody tr th {\n",
       "        vertical-align: top;\n",
       "    }\n",
       "\n",
       "    .dataframe thead th {\n",
       "        text-align: right;\n",
       "    }\n",
       "</style>\n",
       "<table border=\"1\" class=\"dataframe\">\n",
       "  <thead>\n",
       "    <tr style=\"text-align: right;\">\n",
       "      <th></th>\n",
       "      <th>수온</th>\n",
       "      <th>삼온</th>\n",
       "      <th>hand</th>\n",
       "      <th>날개</th>\n",
       "      <th>손</th>\n",
       "    </tr>\n",
       "  </thead>\n",
       "  <tbody>\n",
       "    <tr>\n",
       "      <th>0</th>\n",
       "      <td>1</td>\n",
       "      <td>2.0</td>\n",
       "      <td>손</td>\n",
       "      <td>0</td>\n",
       "      <td>1</td>\n",
       "    </tr>\n",
       "    <tr>\n",
       "      <th>1</th>\n",
       "      <td>2</td>\n",
       "      <td>2.3</td>\n",
       "      <td>날개</td>\n",
       "      <td>1</td>\n",
       "      <td>0</td>\n",
       "    </tr>\n",
       "    <tr>\n",
       "      <th>2</th>\n",
       "      <td>3</td>\n",
       "      <td>3.4</td>\n",
       "      <td>손</td>\n",
       "      <td>0</td>\n",
       "      <td>1</td>\n",
       "    </tr>\n",
       "  </tbody>\n",
       "</table>\n",
       "</div>"
      ],
      "text/plain": [
       "   수온   삼온 hand  날개  손\n",
       "0   1  2.0    손   0  1\n",
       "1   2  2.3   날개   1  0\n",
       "2   3  3.4    손   0  1"
      ]
     },
     "metadata": {},
     "output_type": "display_data"
    }
   ],
   "source": [
    "df = pd.merge(df , df_1,how='outer',left_index=True,right_index=True)\n",
    "display(df)"
   ]
  },
  {
   "cell_type": "code",
   "execution_count": 9,
   "id": "c3a9f4f7",
   "metadata": {},
   "outputs": [
    {
     "data": {
      "text/html": [
       "<div>\n",
       "<style scoped>\n",
       "    .dataframe tbody tr th:only-of-type {\n",
       "        vertical-align: middle;\n",
       "    }\n",
       "\n",
       "    .dataframe tbody tr th {\n",
       "        vertical-align: top;\n",
       "    }\n",
       "\n",
       "    .dataframe thead th {\n",
       "        text-align: right;\n",
       "    }\n",
       "</style>\n",
       "<table border=\"1\" class=\"dataframe\">\n",
       "  <thead>\n",
       "    <tr style=\"text-align: right;\">\n",
       "      <th></th>\n",
       "      <th>수온</th>\n",
       "      <th>삼온</th>\n",
       "      <th>hand</th>\n",
       "      <th>날개_x</th>\n",
       "      <th>손_x</th>\n",
       "      <th>날개_y</th>\n",
       "      <th>손_y</th>\n",
       "    </tr>\n",
       "  </thead>\n",
       "  <tbody>\n",
       "    <tr>\n",
       "      <th>0</th>\n",
       "      <td>1</td>\n",
       "      <td>2.0</td>\n",
       "      <td>손</td>\n",
       "      <td>0</td>\n",
       "      <td>1</td>\n",
       "      <td>0</td>\n",
       "      <td>1</td>\n",
       "    </tr>\n",
       "    <tr>\n",
       "      <th>1</th>\n",
       "      <td>1</td>\n",
       "      <td>2.0</td>\n",
       "      <td>손</td>\n",
       "      <td>0</td>\n",
       "      <td>1</td>\n",
       "      <td>1</td>\n",
       "      <td>0</td>\n",
       "    </tr>\n",
       "    <tr>\n",
       "      <th>2</th>\n",
       "      <td>1</td>\n",
       "      <td>2.0</td>\n",
       "      <td>손</td>\n",
       "      <td>0</td>\n",
       "      <td>1</td>\n",
       "      <td>0</td>\n",
       "      <td>1</td>\n",
       "    </tr>\n",
       "    <tr>\n",
       "      <th>3</th>\n",
       "      <td>2</td>\n",
       "      <td>2.3</td>\n",
       "      <td>날개</td>\n",
       "      <td>1</td>\n",
       "      <td>0</td>\n",
       "      <td>0</td>\n",
       "      <td>1</td>\n",
       "    </tr>\n",
       "    <tr>\n",
       "      <th>4</th>\n",
       "      <td>2</td>\n",
       "      <td>2.3</td>\n",
       "      <td>날개</td>\n",
       "      <td>1</td>\n",
       "      <td>0</td>\n",
       "      <td>1</td>\n",
       "      <td>0</td>\n",
       "    </tr>\n",
       "    <tr>\n",
       "      <th>5</th>\n",
       "      <td>2</td>\n",
       "      <td>2.3</td>\n",
       "      <td>날개</td>\n",
       "      <td>1</td>\n",
       "      <td>0</td>\n",
       "      <td>0</td>\n",
       "      <td>1</td>\n",
       "    </tr>\n",
       "    <tr>\n",
       "      <th>6</th>\n",
       "      <td>3</td>\n",
       "      <td>3.4</td>\n",
       "      <td>손</td>\n",
       "      <td>0</td>\n",
       "      <td>1</td>\n",
       "      <td>0</td>\n",
       "      <td>1</td>\n",
       "    </tr>\n",
       "    <tr>\n",
       "      <th>7</th>\n",
       "      <td>3</td>\n",
       "      <td>3.4</td>\n",
       "      <td>손</td>\n",
       "      <td>0</td>\n",
       "      <td>1</td>\n",
       "      <td>1</td>\n",
       "      <td>0</td>\n",
       "    </tr>\n",
       "    <tr>\n",
       "      <th>8</th>\n",
       "      <td>3</td>\n",
       "      <td>3.4</td>\n",
       "      <td>손</td>\n",
       "      <td>0</td>\n",
       "      <td>1</td>\n",
       "      <td>0</td>\n",
       "      <td>1</td>\n",
       "    </tr>\n",
       "  </tbody>\n",
       "</table>\n",
       "</div>"
      ],
      "text/plain": [
       "   수온   삼온 hand  날개_x  손_x  날개_y  손_y\n",
       "0   1  2.0    손     0    1     0    1\n",
       "1   1  2.0    손     0    1     1    0\n",
       "2   1  2.0    손     0    1     0    1\n",
       "3   2  2.3   날개     1    0     0    1\n",
       "4   2  2.3   날개     1    0     1    0\n",
       "5   2  2.3   날개     1    0     0    1\n",
       "6   3  3.4    손     0    1     0    1\n",
       "7   3  3.4    손     0    1     1    0\n",
       "8   3  3.4    손     0    1     0    1"
      ]
     },
     "metadata": {},
     "output_type": "display_data"
    }
   ],
   "source": [
    "df = df.merge(df_1,how='cross')\n",
    "display(df)"
   ]
  },
  {
   "cell_type": "code",
   "execution_count": 11,
   "id": "7d6546fe",
   "metadata": {},
   "outputs": [
    {
     "data": {
      "text/html": [
       "<div>\n",
       "<style scoped>\n",
       "    .dataframe tbody tr th:only-of-type {\n",
       "        vertical-align: middle;\n",
       "    }\n",
       "\n",
       "    .dataframe tbody tr th {\n",
       "        vertical-align: top;\n",
       "    }\n",
       "\n",
       "    .dataframe thead th {\n",
       "        text-align: right;\n",
       "    }\n",
       "</style>\n",
       "<table border=\"1\" class=\"dataframe\">\n",
       "  <thead>\n",
       "    <tr style=\"text-align: right;\">\n",
       "      <th></th>\n",
       "      <th>수온</th>\n",
       "      <th>삼온</th>\n",
       "      <th>날개_x</th>\n",
       "      <th>손_x</th>\n",
       "      <th>날개_y</th>\n",
       "      <th>손_y</th>\n",
       "    </tr>\n",
       "  </thead>\n",
       "  <tbody>\n",
       "    <tr>\n",
       "      <th>0</th>\n",
       "      <td>1</td>\n",
       "      <td>2.0</td>\n",
       "      <td>0</td>\n",
       "      <td>1</td>\n",
       "      <td>0</td>\n",
       "      <td>1</td>\n",
       "    </tr>\n",
       "    <tr>\n",
       "      <th>1</th>\n",
       "      <td>1</td>\n",
       "      <td>2.0</td>\n",
       "      <td>0</td>\n",
       "      <td>1</td>\n",
       "      <td>1</td>\n",
       "      <td>0</td>\n",
       "    </tr>\n",
       "    <tr>\n",
       "      <th>2</th>\n",
       "      <td>1</td>\n",
       "      <td>2.0</td>\n",
       "      <td>0</td>\n",
       "      <td>1</td>\n",
       "      <td>0</td>\n",
       "      <td>1</td>\n",
       "    </tr>\n",
       "    <tr>\n",
       "      <th>3</th>\n",
       "      <td>2</td>\n",
       "      <td>2.3</td>\n",
       "      <td>1</td>\n",
       "      <td>0</td>\n",
       "      <td>0</td>\n",
       "      <td>1</td>\n",
       "    </tr>\n",
       "    <tr>\n",
       "      <th>4</th>\n",
       "      <td>2</td>\n",
       "      <td>2.3</td>\n",
       "      <td>1</td>\n",
       "      <td>0</td>\n",
       "      <td>1</td>\n",
       "      <td>0</td>\n",
       "    </tr>\n",
       "    <tr>\n",
       "      <th>5</th>\n",
       "      <td>2</td>\n",
       "      <td>2.3</td>\n",
       "      <td>1</td>\n",
       "      <td>0</td>\n",
       "      <td>0</td>\n",
       "      <td>1</td>\n",
       "    </tr>\n",
       "    <tr>\n",
       "      <th>6</th>\n",
       "      <td>3</td>\n",
       "      <td>3.4</td>\n",
       "      <td>0</td>\n",
       "      <td>1</td>\n",
       "      <td>0</td>\n",
       "      <td>1</td>\n",
       "    </tr>\n",
       "    <tr>\n",
       "      <th>7</th>\n",
       "      <td>3</td>\n",
       "      <td>3.4</td>\n",
       "      <td>0</td>\n",
       "      <td>1</td>\n",
       "      <td>1</td>\n",
       "      <td>0</td>\n",
       "    </tr>\n",
       "    <tr>\n",
       "      <th>8</th>\n",
       "      <td>3</td>\n",
       "      <td>3.4</td>\n",
       "      <td>0</td>\n",
       "      <td>1</td>\n",
       "      <td>0</td>\n",
       "      <td>1</td>\n",
       "    </tr>\n",
       "  </tbody>\n",
       "</table>\n",
       "</div>"
      ],
      "text/plain": [
       "   수온   삼온  날개_x  손_x  날개_y  손_y\n",
       "0   1  2.0     0    1     0    1\n",
       "1   1  2.0     0    1     1    0\n",
       "2   1  2.0     0    1     0    1\n",
       "3   2  2.3     1    0     0    1\n",
       "4   2  2.3     1    0     1    0\n",
       "5   2  2.3     1    0     0    1\n",
       "6   3  3.4     0    1     0    1\n",
       "7   3  3.4     0    1     1    0\n",
       "8   3  3.4     0    1     0    1"
      ]
     },
     "execution_count": 11,
     "metadata": {},
     "output_type": "execute_result"
    }
   ],
   "source": [
    "df.drop(columns=['hand'])"
   ]
  },
  {
   "cell_type": "code",
   "execution_count": null,
   "id": "e2f200a0",
   "metadata": {},
   "outputs": [],
   "source": []
  }
 ],
 "metadata": {
  "kernelspec": {
   "display_name": "Python 3",
   "language": "python",
   "name": "python3"
  },
  "language_info": {
   "codemirror_mode": {
    "name": "ipython",
    "version": 3
   },
   "file_extension": ".py",
   "mimetype": "text/x-python",
   "name": "python",
   "nbconvert_exporter": "python",
   "pygments_lexer": "ipython3",
   "version": "3.8.9"
  }
 },
 "nbformat": 4,
 "nbformat_minor": 5
}
